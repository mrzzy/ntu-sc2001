{
 "cells": [
  {
   "cell_type": "code",
   "execution_count": 242,
   "id": "c00302ef-edfe-4fd3-8a50-372e1f3ace18",
   "metadata": {
    "tags": []
   },
   "outputs": [
    {
     "name": "stdout",
     "output_type": "stream",
     "text": [
      "Requirement already satisfied: networkx==3.3 in ./.venv/lib/python3.10/site-packages (from -r requirements.txt (line 1)) (3.3)\n",
      "\n",
      "\u001b[1m[\u001b[0m\u001b[34;49mnotice\u001b[0m\u001b[1;39;49m]\u001b[0m\u001b[39;49m A new release of pip is available: \u001b[0m\u001b[31;49m23.0.1\u001b[0m\u001b[39;49m -> \u001b[0m\u001b[32;49m24.2\u001b[0m\n",
      "\u001b[1m[\u001b[0m\u001b[34;49mnotice\u001b[0m\u001b[1;39;49m]\u001b[0m\u001b[39;49m To update, run: \u001b[0m\u001b[32;49mpip install --upgrade pip\u001b[0m\n",
      "Note: you may need to restart the kernel to use updated packages.\n"
     ]
    }
   ],
   "source": [
    "%pip install -r requirements.txt"
   ]
  },
  {
   "cell_type": "code",
   "execution_count": 179,
   "id": "35bbb95c-b25d-4cff-ab4c-f0d5379cd98c",
   "metadata": {
    "tags": []
   },
   "outputs": [],
   "source": [
    "import networkx as nx\n",
    "import time\n",
    "from random import randint\n",
    "from psutil import Popen\n",
    "from networkx import Graph\n",
    "from tempfile import NamedTemporaryFile"
   ]
  },
  {
   "cell_type": "markdown",
   "id": "9e4b828c-c7fc-4b19-a316-a1c5c185ddfe",
   "metadata": {},
   "source": [
    "This is how to generate graphs:\n",
    "- how to add random weights: https://stackoverflow.com/questions/31804117/how-to-create-a-random-networkx-graph-with-random-weights"
   ]
  },
  {
   "cell_type": "code",
   "execution_count": 234,
   "id": "95c4bf80-1202-44d2-a537-233993e626ff",
   "metadata": {
    "tags": []
   },
   "outputs": [],
   "source": [
    "n_vertices = 5000\n",
    "g = nx.gnp_random_graph(n_vertices, 0.1, 42)\n",
    "for u, v in g.edges():\n",
    "    g.edges[u, v][\"weight\"] = randint(1, n_vertices)"
   ]
  },
  {
   "cell_type": "code",
   "execution_count": 235,
   "id": "6cda71ec-ed67-4ce8-b2fb-67e1034c1b08",
   "metadata": {
    "tags": []
   },
   "outputs": [],
   "source": [
    "def trial(graph: Graph, graph_adj: str, p_queue: str, start: int, end: int, program: str = \"./a.out\") -> dict[str, float]:\n",
    "    \"\"\"Perform one trial of djistrka shortest path.\n",
    "\n",
    "    Args:\n",
    "        graph: Weighted graph to perform shortest path on.\n",
    "            Weights should be set on node data with the \"weight\" key\n",
    "        graph_adj: Graph adjcency implementation to use. Either 'matrix' or 'list'.\n",
    "        p_queue: Priority Queue implementation to use. Either 'array' or 'heap'.\n",
    "        start: Starting node to traverse from.\n",
    "        end: End node to traverse to.\n",
    "        program: Path to the executable compiled from code.cpp.\n",
    "    \"\"\"\n",
    "    with NamedTemporaryFile(\"w\") as f:\n",
    "        # encode trial parameters into input file\n",
    "        f.write(f\"{graph.number_of_nodes()} {start} {end}\\n\")\n",
    "        for src, dest, data in graph.edges(data=True):\n",
    "            # simulate undirected edge via 2 directed edges in opposite directions\n",
    "            f.write(f\"{src} {data['weight']} {dest}\\n\")\n",
    "            f.write(f\"{dest} {data['weight']} {src}\\n\")\n",
    "        f.flush()\n",
    "\n",
    "        # run program as a subprocess\n",
    "        process = Popen([program, graph_adj, p_queue, f.name])\n",
    "        stats = {\"ram\": 0}\n",
    "        while True:\n",
    "            # record system resource usage\n",
    "            cpu =  process.cpu_times()\n",
    "            stats[\"cpu_time\"] = cpu.user + cpu.system\n",
    "            stats[\"ram\"] = max(stats[\"ram\"], process.memory_info().vms)\n",
    "            time.sleep(1e-6)\n",
    "            \n",
    "            if process.poll() is not None:\n",
    "                break\n",
    "        return stats\n",
    "        \n",
    "    "
   ]
  },
  {
   "cell_type": "code",
   "execution_count": 240,
   "id": "6f6a2a1d-3f7d-4b33-8395-ac31748bfb61",
   "metadata": {
    "tags": []
   },
   "outputs": [
    {
     "name": "stdout",
     "output_type": "stream",
     "text": [
      "shortest: 0 416 1088 4649 3719 4926 136 2384 5 \n"
     ]
    },
    {
     "data": {
      "text/plain": [
       "{'ram': 186896384, 'cpu_time': 0.48}"
      ]
     },
     "execution_count": 240,
     "metadata": {},
     "output_type": "execute_result"
    }
   ],
   "source": [
    "trial(g, \"matrix\", \"heap\", 0, 5)"
   ]
  }
 ],
 "metadata": {
  "kernelspec": {
   "display_name": "class_2",
   "language": "python",
   "name": "class_2"
  },
  "language_info": {
   "codemirror_mode": {
    "name": "ipython",
    "version": 3
   },
   "file_extension": ".py",
   "mimetype": "text/x-python",
   "name": "python",
   "nbconvert_exporter": "python",
   "pygments_lexer": "ipython3",
   "version": "3.10.13"
  },
  "toc-autonumbering": false,
  "toc-showcode": false,
  "toc-showmarkdowntxt": false
 },
 "nbformat": 4,
 "nbformat_minor": 5
}
