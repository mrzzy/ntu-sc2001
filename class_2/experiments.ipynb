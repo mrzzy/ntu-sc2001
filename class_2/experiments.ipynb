{
 "cells": [
  {
   "cell_type": "code",
   "execution_count": 25,
   "id": "c00302ef-edfe-4fd3-8a50-372e1f3ace18",
   "metadata": {
    "tags": []
   },
   "outputs": [
    {
     "name": "stdout",
     "output_type": "stream",
     "text": [
      "Requirement already satisfied: networkx==3.3 in ./.venv/lib/python3.10/site-packages (from -r requirements.txt (line 1)) (3.3)\n",
      "Requirement already satisfied: psutil==6.0.0 in ./.venv/lib/python3.10/site-packages (from -r requirements.txt (line 2)) (6.0.0)\n",
      "Requirement already satisfied: numpy==2.1.1 in ./.venv/lib/python3.10/site-packages (from -r requirements.txt (line 3)) (2.1.1)\n",
      "Requirement already satisfied: pandas==2.2.3 in ./.venv/lib/python3.10/site-packages (from -r requirements.txt (line 4)) (2.2.3)\n",
      "Requirement already satisfied: pytz>=2020.1 in ./.venv/lib/python3.10/site-packages (from pandas==2.2.3->-r requirements.txt (line 4)) (2024.2)\n",
      "Requirement already satisfied: python-dateutil>=2.8.2 in ./.venv/lib/python3.10/site-packages (from pandas==2.2.3->-r requirements.txt (line 4)) (2.9.0.post0)\n",
      "Requirement already satisfied: tzdata>=2022.7 in ./.venv/lib/python3.10/site-packages (from pandas==2.2.3->-r requirements.txt (line 4)) (2024.2)\n",
      "Requirement already satisfied: six>=1.5 in ./.venv/lib/python3.10/site-packages (from python-dateutil>=2.8.2->pandas==2.2.3->-r requirements.txt (line 4)) (1.16.0)\n",
      "\n",
      "\u001b[1m[\u001b[0m\u001b[34;49mnotice\u001b[0m\u001b[1;39;49m]\u001b[0m\u001b[39;49m A new release of pip is available: \u001b[0m\u001b[31;49m23.0.1\u001b[0m\u001b[39;49m -> \u001b[0m\u001b[32;49m24.2\u001b[0m\n",
      "\u001b[1m[\u001b[0m\u001b[34;49mnotice\u001b[0m\u001b[1;39;49m]\u001b[0m\u001b[39;49m To update, run: \u001b[0m\u001b[32;49mpython -m pip install --upgrade pip\u001b[0m\n",
      "Note: you may need to restart the kernel to use updated packages.\n"
     ]
    }
   ],
   "source": [
    "%pip install -r requirements.txt"
   ]
  },
  {
   "cell_type": "code",
   "execution_count": 26,
   "id": "35bbb95c-b25d-4cff-ab4c-f0d5379cd98c",
   "metadata": {
    "tags": []
   },
   "outputs": [],
   "source": [
    "import networkx as nx\n",
    "import time\n",
    "import random\n",
    "import numpy as np\n",
    "import pandas as pd\n",
    "from random import randint\n",
    "from multiprocessing.pool import Pool\n",
    "from itertools import combinations\n",
    "from psutil import Popen, TimeoutExpired\n",
    "from networkx import Graph\n",
    "from tempfile import NamedTemporaryFile"
   ]
  },
  {
   "cell_type": "markdown",
   "id": "9e4b828c-c7fc-4b19-a316-a1c5c185ddfe",
   "metadata": {},
   "source": [
    "This is how to generate graphs:"
   ]
  },
  {
   "cell_type": "code",
   "execution_count": 27,
   "id": "9e551eff-1273-4f5f-b0ca-5687b4b5e8c9",
   "metadata": {
    "tags": []
   },
   "outputs": [],
   "source": [
    "def random_connected_graph(n_vertex: int, p_edge:float, seed:int = 42) -> Graph:\n",
    "    \"\"\"Generate a random connected graph.\n",
    "    \n",
    "    Args:\n",
    "        n_vertex: No. of vertices in the generated graph.\n",
    "        p_edge: Probability of generating a random edge between any two vertices.\n",
    "        seed: Seed used to seed the random number generator.\n",
    "    Returns:\n",
    "        A random connected graph.\n",
    "    \"\"\"\n",
    "    g = Graph()\n",
    "    random.seed(seed)\n",
    "    \n",
    "    # generate a spanning tree that connects all vertices\n",
    "    # this ensures that the resultant random graph would be connected\n",
    "    unvisited = list(range(1, n_vertex))\n",
    "    random.shuffle(unvisited)\n",
    "    src = 0\n",
    "    while len(unvisited) > 0:\n",
    "        # pop a random unvisited vertex and connect them on the graph\n",
    "        dest = unvisited.pop()\n",
    "        g.add_edge(src, dest, weight=randint(1, n_vertex))\n",
    "        src = dest\n",
    "    \n",
    "    # sample all combinations of edges between two vertices to create random edges on the graph\n",
    "    for edge in combinations(range(n_vertex), 2):\n",
    "        if random.random() < p_edge:\n",
    "            g.add_edge(*edge, weight=randint(1, n_vertex))\n",
    "    \n",
    "    return g\n"
   ]
  },
  {
   "cell_type": "markdown",
   "id": "e11adf3e-7cf6-4672-b831-b547cc2ce4de",
   "metadata": {},
   "source": [
    "How to run experiment trials:"
   ]
  },
  {
   "cell_type": "code",
   "execution_count": 29,
   "id": "6cda71ec-ed67-4ce8-b2fb-67e1034c1b08",
   "metadata": {
    "tags": []
   },
   "outputs": [],
   "source": [
    "def trial(graph: Graph, graph_adj: str, p_queue: str, start: int, end: int, program: str = \"./a.out\") -> dict[str, float]:\n",
    "    \"\"\"Perform one trial of djistrka shortest path.\n",
    "\n",
    "    Args:\n",
    "        graph: Weighted graph to perform shortest path on.\n",
    "            Weights should be set on node data with the \"weight\" key\n",
    "        graph_adj: Graph adjcency implementation to use. Either 'matrix' or 'list'.\n",
    "        p_queue: Priority Queue implementation to use. Either 'array' or 'heap'.\n",
    "        start: Starting node to traverse from.\n",
    "        end: End node to traverse to.\n",
    "        program: Path to the executable compiled from code.cpp.\n",
    "        \n",
    "    Returns: Dict of expriment statistics:\n",
    "        - ram: no. of bytes consumed by the program\n",
    "        - runtime: wall time elapsed by start and completion of the program.\n",
    "    \"\"\"\n",
    "    with NamedTemporaryFile(\"w+\") as f:\n",
    "        # encode trial parameters into input file\n",
    "        f.write(f\"{graph.number_of_nodes()} {start} {end}\\n\")\n",
    "        for src, dest, data in graph.edges(data=True):\n",
    "            # simulate undirected edge via 2 directed edges in opposite directions\n",
    "            f.write(f\"{src} {data['weight']} {dest}\\n\")\n",
    "            f.write(f\"{dest} {data['weight']} {src}\\n\")\n",
    "        f.flush()\n",
    "\n",
    "        # run program as a subprocess\n",
    "        begin = time.monotonic()\n",
    "        process = Popen([program, graph_adj, p_queue, f.name])\n",
    "        stats = {\"ram\": 0}\n",
    "        while process.is_running():\n",
    "            # record system resource usage\n",
    "            stats[\"time\"] = time.monotonic() - begin\n",
    "            stats[\"ram\"] = max(stats[\"ram\"], process.memory_info().vms)\n",
    "            try:\n",
    "                process.wait(1e-6)\n",
    "            except TimeoutExpired:\n",
    "                pass\n",
    "        return stats\n",
    "        \n",
    "    "
   ]
  },
  {
   "cell_type": "code",
   "execution_count": null,
   "id": "6f6a2a1d-3f7d-4b33-8395-ac31748bfb61",
   "metadata": {
    "tags": []
   },
   "outputs": [],
   "source": [
    "def process(chunk):\n",
    "    n_vertex, p_edge, graph_adj, pq, t = chunk\n",
    "    graph = random_connected_graph(n_vertex, p_edge, seed=42)\n",
    "    # run a shortest path trial from 0 -> random vertex\n",
    "    stats = trial(graph, graph_adj, pq, 0, randint(0, n_vertex - 1))\n",
    "    return stats | {\n",
    "        \"n_vertex\": n_vertex,\n",
    "        \"p_edge\": p_edge,\n",
    "        \"graph_adj\": graph_adj,\n",
    "        \"priority_queue\": pq,\n",
    "        \"trial_i\": t,\n",
    "    }\n",
    "\n",
    "n_trials = 15\n",
    "\n",
    "params = [\n",
    "    (max(1, n_vertex), float(p_edge), graph_adj, pq, t)\n",
    "    # 1, 50, ... 1000 vertices\n",
    "    for n_vertex in range(0, 1000 + 1, 50)\n",
    "    # p_edge = 0, 0.05, ... 1.0\n",
    "    for p_edge in np.linspace(0, 1, 20)\n",
    "    for graph_adj in [\"matrix\", \"list\"]\n",
    "    for pq in [\"array\", \"heap\"]\n",
    "    for t in range(n_trials)\n",
    "]\n",
    "\n",
    "random.shuffle(params)\n",
    "df = pd.DataFrame(Pool().map(process, params))"
   ]
  },
  {
   "cell_type": "code",
   "execution_count": null,
   "id": "138955d2-2c2a-44b6-8307-159b4677eacd",
   "metadata": {
    "tags": []
   },
   "outputs": [],
   "source": [
    "df"
   ]
  },
  {
   "cell_type": "code",
   "execution_count": null,
   "id": "2bd48d4b-78b0-4e09-a17e-b42b0aaf0ff1",
   "metadata": {
    "tags": []
   },
   "outputs": [],
   "source": [
    "df[(df[\"n_vertex\"] == 1000) & (df[\"p_edge\"] ==  1.0)]"
   ]
  },
  {
   "cell_type": "code",
   "execution_count": null,
   "id": "917c7b62-96a3-491f-9594-3d3e0832fcc5",
   "metadata": {
    "tags": []
   },
   "outputs": [],
   "source": [
    "df.to_csv(\"results.csv\")"
   ]
  }
 ],
 "metadata": {
  "kernelspec": {
   "display_name": "Python 3",
   "language": "python",
   "name": "python3"
  },
  "language_info": {
   "codemirror_mode": {
    "name": "ipython",
    "version": 3
   },
   "file_extension": ".py",
   "mimetype": "text/x-python",
   "name": "python",
   "nbconvert_exporter": "python",
   "pygments_lexer": "ipython3",
   "version": "3.12.6"
  },
  "toc-autonumbering": false,
  "toc-showcode": false,
  "toc-showmarkdowntxt": false
 },
 "nbformat": 4,
 "nbformat_minor": 5
}
